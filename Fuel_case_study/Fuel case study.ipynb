{
 "cells": [
  {
   "cell_type": "code",
   "execution_count": 2,
   "metadata": {
    "collapsed": true
   },
   "outputs": [],
   "source": [
    "import pandas as pd\n",
    "import numpy as np"
   ]
  },
  {
   "cell_type": "code",
   "execution_count": 6,
   "metadata": {
    "collapsed": true
   },
   "outputs": [],
   "source": [
    "df_08 = pd.read_csv('08tstcar.csv')\n",
    "df_18 = pd.read_csv('18tstcar.csv')"
   ]
  },
  {
   "cell_type": "code",
   "execution_count": 4,
   "metadata": {},
   "outputs": [
    {
     "data": {
      "text/html": [
       "<div>\n",
       "<table border=\"1\" class=\"dataframe\">\n",
       "  <thead>\n",
       "    <tr style=\"text-align: right;\">\n",
       "      <th></th>\n",
       "      <th>MDLYR_DT</th>\n",
       "      <th>VI_MFR_CD</th>\n",
       "      <th>VI_MFR_NM</th>\n",
       "      <th>GBE_INDX_NUM</th>\n",
       "      <th>OV_ID</th>\n",
       "      <th>VC_CNFG_NUM</th>\n",
       "      <th>CL_NM</th>\n",
       "      <th>CLS_TYP_CD</th>\n",
       "      <th>GBE_CID_MSR</th>\n",
       "      <th>GBE_PLC_IND_CD</th>\n",
       "      <th>...</th>\n",
       "      <th>TPF_DYN_TRK_A_MSR</th>\n",
       "      <th>TPF_DYN_TRK_B_MSR</th>\n",
       "      <th>TPF_DYN_TRK_C_MSR</th>\n",
       "      <th>TPF_EDYN_TRK_A_MSR</th>\n",
       "      <th>TPF_EDYN_TRK_B_MSR</th>\n",
       "      <th>TPF_EDYN_TRK_C_MSR</th>\n",
       "      <th>ENG_CD</th>\n",
       "      <th>EF_ID</th>\n",
       "      <th>VC_CYL_CNT</th>\n",
       "      <th>TPF_MFR_CSTDN_MSR</th>\n",
       "    </tr>\n",
       "  </thead>\n",
       "  <tbody>\n",
       "    <tr>\n",
       "      <th>0</th>\n",
       "      <td>2008</td>\n",
       "      <td>20</td>\n",
       "      <td>Chrysler LLC</td>\n",
       "      <td>7</td>\n",
       "      <td>L6DR17260</td>\n",
       "      <td>9</td>\n",
       "      <td>RAM 1500 PICKUP 2WD</td>\n",
       "      <td>T</td>\n",
       "      <td>348</td>\n",
       "      <td>N</td>\n",
       "      <td>...</td>\n",
       "      <td>51.38</td>\n",
       "      <td>0.5715</td>\n",
       "      <td>0.03058</td>\n",
       "      <td>17.60</td>\n",
       "      <td>0.80780</td>\n",
       "      <td>0.02675</td>\n",
       "      <td>FA-700</td>\n",
       "      <td>8CRXT05.7PE0</td>\n",
       "      <td>8</td>\n",
       "      <td>16.32</td>\n",
       "    </tr>\n",
       "    <tr>\n",
       "      <th>1</th>\n",
       "      <td>2008</td>\n",
       "      <td>20</td>\n",
       "      <td>Chrysler LLC</td>\n",
       "      <td>7</td>\n",
       "      <td>L6DR17260</td>\n",
       "      <td>9</td>\n",
       "      <td>RAM 1500 PICKUP 2WD</td>\n",
       "      <td>T</td>\n",
       "      <td>348</td>\n",
       "      <td>N</td>\n",
       "      <td>...</td>\n",
       "      <td>51.38</td>\n",
       "      <td>0.5715</td>\n",
       "      <td>0.03058</td>\n",
       "      <td>17.60</td>\n",
       "      <td>0.80780</td>\n",
       "      <td>0.02675</td>\n",
       "      <td>FA-700</td>\n",
       "      <td>8CRXT05.7PE0</td>\n",
       "      <td>8</td>\n",
       "      <td>NaN</td>\n",
       "    </tr>\n",
       "    <tr>\n",
       "      <th>2</th>\n",
       "      <td>2008</td>\n",
       "      <td>20</td>\n",
       "      <td>Chrysler LLC</td>\n",
       "      <td>7</td>\n",
       "      <td>L6DR17260</td>\n",
       "      <td>8</td>\n",
       "      <td>RAM 1500 PICKUP 4WD</td>\n",
       "      <td>T</td>\n",
       "      <td>348</td>\n",
       "      <td>N</td>\n",
       "      <td>...</td>\n",
       "      <td>51.38</td>\n",
       "      <td>0.5715</td>\n",
       "      <td>0.03058</td>\n",
       "      <td>17.60</td>\n",
       "      <td>0.80780</td>\n",
       "      <td>0.02675</td>\n",
       "      <td>FA-900</td>\n",
       "      <td>8CRXT05.7PE0</td>\n",
       "      <td>8</td>\n",
       "      <td>16.32</td>\n",
       "    </tr>\n",
       "    <tr>\n",
       "      <th>3</th>\n",
       "      <td>2008</td>\n",
       "      <td>20</td>\n",
       "      <td>Chrysler LLC</td>\n",
       "      <td>7</td>\n",
       "      <td>L6DR17260</td>\n",
       "      <td>8</td>\n",
       "      <td>RAM 1500 PICKUP 4WD</td>\n",
       "      <td>T</td>\n",
       "      <td>348</td>\n",
       "      <td>N</td>\n",
       "      <td>...</td>\n",
       "      <td>51.38</td>\n",
       "      <td>0.5715</td>\n",
       "      <td>0.03058</td>\n",
       "      <td>17.60</td>\n",
       "      <td>0.80780</td>\n",
       "      <td>0.02675</td>\n",
       "      <td>FA-900</td>\n",
       "      <td>8CRXT05.7PE0</td>\n",
       "      <td>8</td>\n",
       "      <td>NaN</td>\n",
       "    </tr>\n",
       "    <tr>\n",
       "      <th>4</th>\n",
       "      <td>2008</td>\n",
       "      <td>20</td>\n",
       "      <td>Chrysler LLC</td>\n",
       "      <td>151</td>\n",
       "      <td>L7JKT9539</td>\n",
       "      <td>7</td>\n",
       "      <td>WRANGLER 2WD</td>\n",
       "      <td>T</td>\n",
       "      <td>231</td>\n",
       "      <td>N</td>\n",
       "      <td>...</td>\n",
       "      <td>33.68</td>\n",
       "      <td>0.9178</td>\n",
       "      <td>0.03235</td>\n",
       "      <td>16.84</td>\n",
       "      <td>0.18356</td>\n",
       "      <td>0.03235</td>\n",
       "      <td>FA-100</td>\n",
       "      <td>8CRXT03.8NE1</td>\n",
       "      <td>6</td>\n",
       "      <td>NaN</td>\n",
       "    </tr>\n",
       "  </tbody>\n",
       "</table>\n",
       "<p>5 rows × 51 columns</p>\n",
       "</div>"
      ],
      "text/plain": [
       "   MDLYR_DT  VI_MFR_CD     VI_MFR_NM  GBE_INDX_NUM      OV_ID  VC_CNFG_NUM  \\\n",
       "0      2008         20  Chrysler LLC             7  L6DR17260            9   \n",
       "1      2008         20  Chrysler LLC             7  L6DR17260            9   \n",
       "2      2008         20  Chrysler LLC             7  L6DR17260            8   \n",
       "3      2008         20  Chrysler LLC             7  L6DR17260            8   \n",
       "4      2008         20  Chrysler LLC           151  L7JKT9539            7   \n",
       "\n",
       "                 CL_NM CLS_TYP_CD  GBE_CID_MSR GBE_PLC_IND_CD  \\\n",
       "0  RAM 1500 PICKUP 2WD          T          348              N   \n",
       "1  RAM 1500 PICKUP 2WD          T          348              N   \n",
       "2  RAM 1500 PICKUP 4WD          T          348              N   \n",
       "3  RAM 1500 PICKUP 4WD          T          348              N   \n",
       "4         WRANGLER 2WD          T          231              N   \n",
       "\n",
       "         ...          TPF_DYN_TRK_A_MSR  TPF_DYN_TRK_B_MSR  TPF_DYN_TRK_C_MSR  \\\n",
       "0        ...                      51.38             0.5715            0.03058   \n",
       "1        ...                      51.38             0.5715            0.03058   \n",
       "2        ...                      51.38             0.5715            0.03058   \n",
       "3        ...                      51.38             0.5715            0.03058   \n",
       "4        ...                      33.68             0.9178            0.03235   \n",
       "\n",
       "   TPF_EDYN_TRK_A_MSR  TPF_EDYN_TRK_B_MSR  TPF_EDYN_TRK_C_MSR  ENG_CD  \\\n",
       "0               17.60             0.80780             0.02675  FA-700   \n",
       "1               17.60             0.80780             0.02675  FA-700   \n",
       "2               17.60             0.80780             0.02675  FA-900   \n",
       "3               17.60             0.80780             0.02675  FA-900   \n",
       "4               16.84             0.18356             0.03235  FA-100   \n",
       "\n",
       "          EF_ID VC_CYL_CNT  TPF_MFR_CSTDN_MSR  \n",
       "0  8CRXT05.7PE0          8              16.32  \n",
       "1  8CRXT05.7PE0          8                NaN  \n",
       "2  8CRXT05.7PE0          8              16.32  \n",
       "3  8CRXT05.7PE0          8                NaN  \n",
       "4  8CRXT03.8NE1          6                NaN  \n",
       "\n",
       "[5 rows x 51 columns]"
      ]
     },
     "execution_count": 4,
     "metadata": {},
     "output_type": "execute_result"
    }
   ],
   "source": [
    "df_08.head()"
   ]
  },
  {
   "cell_type": "code",
   "execution_count": 5,
   "metadata": {},
   "outputs": [
    {
     "data": {
      "text/html": [
       "<div>\n",
       "<table border=\"1\" class=\"dataframe\">\n",
       "  <thead>\n",
       "    <tr style=\"text-align: right;\">\n",
       "      <th></th>\n",
       "      <th>Model Year</th>\n",
       "      <th>Vehicle Manufacturer Name</th>\n",
       "      <th>Veh Mfr Code</th>\n",
       "      <th>Represented Test Veh Make</th>\n",
       "      <th>Represented Test Veh Model</th>\n",
       "      <th>Test Vehicle ID</th>\n",
       "      <th>Test Veh Configuration #</th>\n",
       "      <th>Test Veh Displacement (L)</th>\n",
       "      <th>Actual Tested Testgroup</th>\n",
       "      <th>Vehicle Type</th>\n",
       "      <th>...</th>\n",
       "      <th>Set Coef A (lbf)</th>\n",
       "      <th>Set Coef B (lbf/mph)</th>\n",
       "      <th>Set Coef C (lbf/mph**2)</th>\n",
       "      <th>Aftertreatment Device Cd</th>\n",
       "      <th>Aftertreatment Device Desc</th>\n",
       "      <th>Police - Emergency Vehicle?</th>\n",
       "      <th>Averaging Group ID</th>\n",
       "      <th>Averaging Weighting Factor</th>\n",
       "      <th>Averaging Method Cd</th>\n",
       "      <th>Averging Method Desc</th>\n",
       "    </tr>\n",
       "  </thead>\n",
       "  <tbody>\n",
       "    <tr>\n",
       "      <th>0</th>\n",
       "      <td>2018</td>\n",
       "      <td>aston martin</td>\n",
       "      <td>ASX</td>\n",
       "      <td>Aston Martin</td>\n",
       "      <td>Rapide S</td>\n",
       "      <td>410TT4202</td>\n",
       "      <td>0</td>\n",
       "      <td>6.000</td>\n",
       "      <td>FASXV06.0VHB</td>\n",
       "      <td>Car</td>\n",
       "      <td>...</td>\n",
       "      <td>1.093</td>\n",
       "      <td>2.1980</td>\n",
       "      <td>0.028000</td>\n",
       "      <td>TWC</td>\n",
       "      <td>Three-way catalyst</td>\n",
       "      <td>N</td>\n",
       "      <td>NaN</td>\n",
       "      <td>NaN</td>\n",
       "      <td>N</td>\n",
       "      <td>No averaging</td>\n",
       "    </tr>\n",
       "    <tr>\n",
       "      <th>1</th>\n",
       "      <td>2018</td>\n",
       "      <td>aston martin</td>\n",
       "      <td>ASX</td>\n",
       "      <td>Aston Martin</td>\n",
       "      <td>Rapide S</td>\n",
       "      <td>410TT4202</td>\n",
       "      <td>0</td>\n",
       "      <td>6.000</td>\n",
       "      <td>FASXV06.0VHB</td>\n",
       "      <td>Car</td>\n",
       "      <td>...</td>\n",
       "      <td>1.093</td>\n",
       "      <td>2.1980</td>\n",
       "      <td>0.028000</td>\n",
       "      <td>TWC</td>\n",
       "      <td>Three-way catalyst</td>\n",
       "      <td>N</td>\n",
       "      <td>NaN</td>\n",
       "      <td>NaN</td>\n",
       "      <td>N</td>\n",
       "      <td>No averaging</td>\n",
       "    </tr>\n",
       "    <tr>\n",
       "      <th>2</th>\n",
       "      <td>2018</td>\n",
       "      <td>aston martin</td>\n",
       "      <td>ASX</td>\n",
       "      <td>Aston Martin</td>\n",
       "      <td>Vanquish</td>\n",
       "      <td>314TT3175</td>\n",
       "      <td>0</td>\n",
       "      <td>6.000</td>\n",
       "      <td>FASXV06.0VHB</td>\n",
       "      <td>Car</td>\n",
       "      <td>...</td>\n",
       "      <td>4.810</td>\n",
       "      <td>0.8940</td>\n",
       "      <td>0.014000</td>\n",
       "      <td>TWC</td>\n",
       "      <td>Three-way catalyst</td>\n",
       "      <td>N</td>\n",
       "      <td>NaN</td>\n",
       "      <td>NaN</td>\n",
       "      <td>N</td>\n",
       "      <td>No averaging</td>\n",
       "    </tr>\n",
       "    <tr>\n",
       "      <th>3</th>\n",
       "      <td>2018</td>\n",
       "      <td>aston martin</td>\n",
       "      <td>ASX</td>\n",
       "      <td>Aston Martin</td>\n",
       "      <td>Vanquish</td>\n",
       "      <td>314TT3175</td>\n",
       "      <td>0</td>\n",
       "      <td>6.000</td>\n",
       "      <td>FASXV06.0VHB</td>\n",
       "      <td>Car</td>\n",
       "      <td>...</td>\n",
       "      <td>4.810</td>\n",
       "      <td>0.8940</td>\n",
       "      <td>0.014000</td>\n",
       "      <td>TWC</td>\n",
       "      <td>Three-way catalyst</td>\n",
       "      <td>N</td>\n",
       "      <td>NaN</td>\n",
       "      <td>NaN</td>\n",
       "      <td>N</td>\n",
       "      <td>No averaging</td>\n",
       "    </tr>\n",
       "    <tr>\n",
       "      <th>4</th>\n",
       "      <td>2018</td>\n",
       "      <td>Bentley</td>\n",
       "      <td>BEX</td>\n",
       "      <td>BENTLEY</td>\n",
       "      <td>Continental GT</td>\n",
       "      <td>BY77623/13</td>\n",
       "      <td>0</td>\n",
       "      <td>5.998</td>\n",
       "      <td>DBEXV06.04UC</td>\n",
       "      <td>Car</td>\n",
       "      <td>...</td>\n",
       "      <td>7.614</td>\n",
       "      <td>-0.0083</td>\n",
       "      <td>0.020935</td>\n",
       "      <td>TWC</td>\n",
       "      <td>Three-way catalyst</td>\n",
       "      <td>N</td>\n",
       "      <td>NaN</td>\n",
       "      <td>NaN</td>\n",
       "      <td>N</td>\n",
       "      <td>No averaging</td>\n",
       "    </tr>\n",
       "  </tbody>\n",
       "</table>\n",
       "<p>5 rows × 67 columns</p>\n",
       "</div>"
      ],
      "text/plain": [
       "   Model Year Vehicle Manufacturer Name Veh Mfr Code  \\\n",
       "0        2018              aston martin          ASX   \n",
       "1        2018              aston martin          ASX   \n",
       "2        2018              aston martin          ASX   \n",
       "3        2018              aston martin          ASX   \n",
       "4        2018                   Bentley          BEX   \n",
       "\n",
       "  Represented Test Veh Make Represented Test Veh Model Test Vehicle ID  \\\n",
       "0              Aston Martin                   Rapide S       410TT4202   \n",
       "1              Aston Martin                   Rapide S       410TT4202   \n",
       "2              Aston Martin                   Vanquish       314TT3175   \n",
       "3              Aston Martin                   Vanquish       314TT3175   \n",
       "4                   BENTLEY             Continental GT      BY77623/13   \n",
       "\n",
       "   Test Veh Configuration #  Test Veh Displacement (L)  \\\n",
       "0                         0                      6.000   \n",
       "1                         0                      6.000   \n",
       "2                         0                      6.000   \n",
       "3                         0                      6.000   \n",
       "4                         0                      5.998   \n",
       "\n",
       "  Actual Tested Testgroup Vehicle Type          ...           \\\n",
       "0            FASXV06.0VHB          Car          ...            \n",
       "1            FASXV06.0VHB          Car          ...            \n",
       "2            FASXV06.0VHB          Car          ...            \n",
       "3            FASXV06.0VHB          Car          ...            \n",
       "4            DBEXV06.04UC          Car          ...            \n",
       "\n",
       "   Set Coef A (lbf)  Set Coef B (lbf/mph) Set Coef C (lbf/mph**2)  \\\n",
       "0             1.093                2.1980                0.028000   \n",
       "1             1.093                2.1980                0.028000   \n",
       "2             4.810                0.8940                0.014000   \n",
       "3             4.810                0.8940                0.014000   \n",
       "4             7.614               -0.0083                0.020935   \n",
       "\n",
       "  Aftertreatment Device Cd Aftertreatment Device Desc  \\\n",
       "0                      TWC         Three-way catalyst   \n",
       "1                      TWC         Three-way catalyst   \n",
       "2                      TWC         Three-way catalyst   \n",
       "3                      TWC         Three-way catalyst   \n",
       "4                      TWC         Three-way catalyst   \n",
       "\n",
       "   Police - Emergency Vehicle? Averaging Group ID Averaging Weighting Factor  \\\n",
       "0                            N                NaN                        NaN   \n",
       "1                            N                NaN                        NaN   \n",
       "2                            N                NaN                        NaN   \n",
       "3                            N                NaN                        NaN   \n",
       "4                            N                NaN                        NaN   \n",
       "\n",
       "  Averaging Method Cd  Averging Method Desc  \n",
       "0                   N          No averaging  \n",
       "1                   N          No averaging  \n",
       "2                   N          No averaging  \n",
       "3                   N          No averaging  \n",
       "4                   N          No averaging  \n",
       "\n",
       "[5 rows x 67 columns]"
      ]
     },
     "execution_count": 5,
     "metadata": {},
     "output_type": "execute_result"
    }
   ],
   "source": [
    "df_18.head()"
   ]
  },
  {
   "cell_type": "markdown",
   "metadata": {},
   "source": [
    "### Assessing\n",
    "Use the space below to explore all_alpha_08.csv and all_alpha_18.csv to answer the quiz questions below"
   ]
  },
  {
   "cell_type": "code",
   "execution_count": 7,
   "metadata": {},
   "outputs": [
    {
     "name": "stdout",
     "output_type": "stream",
     "text": [
      "<class 'pandas.core.frame.DataFrame'>\n",
      "RangeIndex: 3015 entries, 0 to 3014\n",
      "Data columns (total 51 columns):\n",
      "MDLYR_DT              3015 non-null int64\n",
      "VI_MFR_CD             3015 non-null int64\n",
      "VI_MFR_NM             3015 non-null object\n",
      "GBE_INDX_NUM          3015 non-null int64\n",
      "OV_ID                 3015 non-null object\n",
      "VC_CNFG_NUM           3015 non-null int64\n",
      "CL_NM                 3015 non-null object\n",
      "CLS_TYP_CD            3015 non-null object\n",
      "GBE_CID_MSR           3015 non-null int64\n",
      "GBE_PLC_IND_CD        3015 non-null object\n",
      "VC_RTD_HP_MSR         3015 non-null int64\n",
      "ECS_CD                0 non-null float64\n",
      "ECS_CD_0              0 non-null float64\n",
      "ECS_CD_1              0 non-null float64\n",
      "ECS_CD_2              0 non-null float64\n",
      "ECS_CD_3              0 non-null float64\n",
      "EVCS_CD               2774 non-null float64\n",
      "TRNS                  3015 non-null object\n",
      "DRV_SYS_CD            3015 non-null object\n",
      "TOD_CD                3015 non-null int64\n",
      "VC_DSN_ETW_MSR        3015 non-null int64\n",
      "VC_CMPRSN_RAT_MSR     3015 non-null float64\n",
      "VC_AXLE_RAT_MSR       3015 non-null float64\n",
      "VC_NV_RAT_MSR         3015 non-null float64\n",
      "TPF_ACHP_IND_CD       3015 non-null object\n",
      "TPF_DYNO_HP_MSR       294 non-null float64\n",
      "SIL_CD                3015 non-null int64\n",
      "TST_PRC_CD            3015 non-null int64\n",
      "TST_PRPS_CD           3015 non-null int64\n",
      "TST_NUM_ID            3015 non-null int64\n",
      "Test Originator       3015 non-null object\n",
      "VEH_FL_TYP_CD         3015 non-null int64\n",
      "CH_CD                 3015 non-null object\n",
      "AVRG_CD               207 non-null object\n",
      "GT_WT_MSR             207 non-null float64\n",
      "CMYT_HC_FE_MSR        2690 non-null float64\n",
      "CMYT_CO_FE_MSR        2692 non-null float64\n",
      "CMYT_CO2_FE_MSR       2692 non-null float64\n",
      "CMYT_NOX_MSR          1355 non-null float64\n",
      "CMYT_PM_MSR           17 non-null float64\n",
      "GT_RND_ADJ_QTY        3015 non-null float64\n",
      "TPF_DYN_TRK_A_MSR     3011 non-null float64\n",
      "TPF_DYN_TRK_B_MSR     3011 non-null float64\n",
      "TPF_DYN_TRK_C_MSR     3011 non-null float64\n",
      "TPF_EDYN_TRK_A_MSR    3011 non-null float64\n",
      "TPF_EDYN_TRK_B_MSR    3011 non-null float64\n",
      "TPF_EDYN_TRK_C_MSR    3011 non-null float64\n",
      "ENG_CD                3015 non-null object\n",
      "EF_ID                 3015 non-null object\n",
      "VC_CYL_CNT            3015 non-null int64\n",
      "TPF_MFR_CSTDN_MSR     1737 non-null float64\n",
      "dtypes: float64(24), int64(14), object(13)\n",
      "memory usage: 1.2+ MB\n"
     ]
    }
   ],
   "source": [
    "# number of samples in each dataset\n",
    "df_08.info()"
   ]
  },
  {
   "cell_type": "code",
   "execution_count": 8,
   "metadata": {},
   "outputs": [
    {
     "data": {
      "text/plain": [
       "0"
      ]
     },
     "execution_count": 8,
     "metadata": {},
     "output_type": "execute_result"
    }
   ],
   "source": [
    "# duplicate rows in each dataset\n",
    "sum(df_08.duplicated())"
   ]
  },
  {
   "cell_type": "code",
   "execution_count": null,
   "metadata": {
    "collapsed": true
   },
   "outputs": [],
   "source": [
    "# Number of ROWS with a missing value\n",
    "sum(df_08.apply(lambda x: sum(x.isnull().values), axis = 1)>0)"
   ]
  },
  {
   "cell_type": "code",
   "execution_count": 9,
   "metadata": {
    "collapsed": true
   },
   "outputs": [],
   "source": [
    "# datatypes of columns\n",
    "type(df_08['Greenhouse Gas Score'][0])"
   ]
  },
  {
   "cell_type": "code",
   "execution_count": 11,
   "metadata": {
    "collapsed": true
   },
   "outputs": [],
   "source": [
    "# number of non-null unique values for features in each dataset\n",
    "df_08.nunique()"
   ]
  },
  {
   "cell_type": "code",
   "execution_count": 12,
   "metadata": {
    "collapsed": true
   },
   "outputs": [],
   "source": [
    "# what those unique values are and counts for fuel types?\n",
    "df_08['Fuel'].unique()\n"
   ]
  },
  {
   "cell_type": "markdown",
   "metadata": {
    "collapsed": true
   },
   "source": [
    "### 1. Drop extraneous columns\n",
    "Drop features that aren't consistent (not present in both datasets) or aren't relevant to our questions. Use Pandas' drop function.\n",
    "\n",
    "Columns to Drop:\n",
    "* From 2008 dataset: 'Stnd', 'Underhood ID', 'FE Calc Appr', 'Unadj Cmb MPG'\n",
    "* From 2018 dataset: 'Stnd', 'Stnd Description', 'Underhood ID', 'Comb CO2'"
   ]
  },
  {
   "cell_type": "code",
   "execution_count": null,
   "metadata": {
    "collapsed": true
   },
   "outputs": [],
   "source": [
    "# drop columns from 2008 dataset\n",
    "df_08.drop(['Stnd', 'Underhood ID', 'FE Calc Appr', 'Unadj Cmb MPG'], axis=1, inplace=True)\n",
    "\n",
    "# confirm changes\n",
    "df_08.head(1)"
   ]
  },
  {
   "cell_type": "markdown",
   "metadata": {},
   "source": [
    "### 2. Rename Columns\n",
    "\n",
    "* Change the \"Sales Area\" column label in the 2008 dataset to \"Cert Region\" for consistency.\n",
    "* Rename all column labels to replace spaces with underscores and convert everything to lowercase. (Underscores can be much easier work with in Python than spaces. For example, having spaces wouldn't allow you to use df.column_name instead of df['column_name'] to select columns or use query(). Being consistent with lowercase and underscores also helps make column names easy to remember.)"
   ]
  },
  {
   "cell_type": "code",
   "execution_count": null,
   "metadata": {
    "collapsed": true
   },
   "outputs": [],
   "source": [
    "# rename Sales Area to Cert Region\n",
    "df_08.rename(columns = {'Sales Area':'Cert Region'}, inplace = True)\n",
    "\n",
    "# confirm changes\n",
    "df_08.head(1)"
   ]
  },
  {
   "cell_type": "code",
   "execution_count": null,
   "metadata": {
    "collapsed": true
   },
   "outputs": [],
   "source": [
    "# replace spaces with underscores and lowercase labels for 2008 dataset\n",
    "df_08.rename(columns=lambda x: x.strip().lower().replace(\" \", \"_\"), inplace=True)\n",
    "\n",
    "# confirm changes\n",
    "df_08.head(1)"
   ]
  },
  {
   "cell_type": "code",
   "execution_count": null,
   "metadata": {
    "collapsed": true
   },
   "outputs": [],
   "source": [
    "# confirm column labels for 2008 and 2018 datasets are identical\n",
    "df_08.columns == df_18.columns"
   ]
  },
  {
   "cell_type": "code",
   "execution_count": null,
   "metadata": {
    "collapsed": true
   },
   "outputs": [],
   "source": [
    "# make sure they're all identical like this\n",
    "(df_08.columns == df_18.columns).all()"
   ]
  },
  {
   "cell_type": "code",
   "execution_count": null,
   "metadata": {
    "collapsed": true
   },
   "outputs": [],
   "source": [
    "# save new datasets for next section\n",
    "df_08.to_csv('data_08.csv', index=False)\n",
    "df_18.to_csv('data_18.csv', index=False)"
   ]
  },
  {
   "cell_type": "markdown",
   "metadata": {},
   "source": [
    "## Filter, Drop Nulls, Dedupe"
   ]
  },
  {
   "cell_type": "markdown",
   "metadata": {},
   "source": [
    "### 1. Filter\n",
    "For consistency, only compare cars certified by California standards. Filter both datasets using query to select only rows where cert_region is CA. Then, drop the cert_region columns, since it will no longer provide any useful information (we'll know every value is 'CA')."
   ]
  },
  {
   "cell_type": "code",
   "execution_count": null,
   "metadata": {
    "collapsed": true
   },
   "outputs": [],
   "source": [
    "# filter datasets for rows following California standards\n",
    "\n",
    "df_08 = df_08.query('cert_region == \"CA\" ')\n",
    "df_18 = df_18.query('cert_region == \"CA\" ')"
   ]
  },
  {
   "cell_type": "code",
   "execution_count": null,
   "metadata": {
    "collapsed": true
   },
   "outputs": [],
   "source": [
    "# confirm only certification region is California\n",
    "df_08['cert_region'].unique()\n",
    "df_18['cert_region'].unique()"
   ]
  },
  {
   "cell_type": "code",
   "execution_count": null,
   "metadata": {
    "collapsed": true
   },
   "outputs": [],
   "source": [
    "# drop certification region columns form both datasets\n",
    "df_08.drop('cert_region', axis=1, inplace=True)\n",
    "df_18.drop('cert_region', axis=1, inplace=True)\n"
   ]
  },
  {
   "cell_type": "markdown",
   "metadata": {},
   "source": [
    "### 2. Drop Nulls\n",
    "Drop any rows in both datasets that contain missing values."
   ]
  },
  {
   "cell_type": "code",
   "execution_count": null,
   "metadata": {
    "collapsed": true
   },
   "outputs": [],
   "source": [
    "# view missing value count for each feature in 2008\n",
    "df_08.isnull().sum "
   ]
  },
  {
   "cell_type": "code",
   "execution_count": null,
   "metadata": {
    "collapsed": true
   },
   "outputs": [],
   "source": [
    "# view missing value count for each feature in 2008\n",
    "df_18.isnull().sum "
   ]
  },
  {
   "cell_type": "code",
   "execution_count": null,
   "metadata": {
    "collapsed": true
   },
   "outputs": [],
   "source": [
    "# drop rows with any null values in both datasets\n",
    "df_08.dropna(inplace=True)\n",
    "df_18.dropna(inplace=True)"
   ]
  },
  {
   "cell_type": "code",
   "execution_count": null,
   "metadata": {
    "collapsed": true
   },
   "outputs": [],
   "source": [
    "# checks if any of columns in 2008 have null values - should print False\n",
    "df_08.isnull().sum().any()"
   ]
  },
  {
   "cell_type": "code",
   "execution_count": null,
   "metadata": {
    "collapsed": true
   },
   "outputs": [],
   "source": [
    "# checks if any of columns in 2008 have null values - should print False\n",
    "df_18.isnull().sum().any()"
   ]
  },
  {
   "cell_type": "markdown",
   "metadata": {},
   "source": [
    "### 3. Dedupe\n",
    "Drop any duplicate rows in both datasets."
   ]
  },
  {
   "cell_type": "code",
   "execution_count": null,
   "metadata": {
    "collapsed": true
   },
   "outputs": [],
   "source": [
    "# print number of duplicates in 2008 and 2018 datasets\n",
    "print(df_08.duplicated().sum())\n",
    "print(df_18.duplicated().sum())"
   ]
  },
  {
   "cell_type": "code",
   "execution_count": null,
   "metadata": {
    "collapsed": true
   },
   "outputs": [],
   "source": [
    "# drop duplicates in both datasets\n",
    "df_08.drop_duplicates(inplace=True)\n",
    "df_18.drop_duplicates(inplace=True)"
   ]
  },
  {
   "cell_type": "code",
   "execution_count": null,
   "metadata": {
    "collapsed": true
   },
   "outputs": [],
   "source": [
    "# print number of duplicates again to confirm dedupe - should both be 0\n",
    "print(df_08.duplicated().sum())\n",
    "print(df_18.duplicated().sum())\n"
   ]
  },
  {
   "cell_type": "code",
   "execution_count": null,
   "metadata": {
    "collapsed": true
   },
   "outputs": [],
   "source": [
    "# save progress for the next section\n",
    "df_08.to_csv('data_08.csv', index=False)\n",
    "df_18.to_csv('data_18.csv', index=False)"
   ]
  },
  {
   "cell_type": "markdown",
   "metadata": {},
   "source": [
    "## Fixing Data Types\n",
    "In the next three sections, you'll make the following changes to make the datatypes consistent and practical to work with."
   ]
  },
  {
   "cell_type": "markdown",
   "metadata": {},
   "source": [
    "### Fix cyl datatype\n",
    "* 2008: extract int from string.\n",
    "* 2018: convert float to int."
   ]
  },
  {
   "cell_type": "code",
   "execution_count": null,
   "metadata": {
    "collapsed": true
   },
   "outputs": [],
   "source": [
    "# check value counts for the 2008 cyl column\n",
    "df_08['cyl'].value_counts()"
   ]
  },
  {
   "cell_type": "code",
   "execution_count": null,
   "metadata": {
    "collapsed": true
   },
   "outputs": [],
   "source": [
    "# Extract int from strings in the 2008 cyl column\n",
    "df_08['cyl'] = df_08['cyl'].str.extract('(\\d+)').astype(int)"
   ]
  },
  {
   "cell_type": "code",
   "execution_count": null,
   "metadata": {
    "collapsed": true
   },
   "outputs": [],
   "source": [
    "# Check value counts for 2008 cyl column again to confirm the change\n",
    "df_08['cyl'].value_counts()"
   ]
  },
  {
   "cell_type": "code",
   "execution_count": null,
   "metadata": {
    "collapsed": true
   },
   "outputs": [],
   "source": [
    "# convert 2018 cyl column to int\n",
    "df_18['cyl'] = df_18['cyl'].astype(int)"
   ]
  },
  {
   "cell_type": "code",
   "execution_count": null,
   "metadata": {
    "collapsed": true
   },
   "outputs": [],
   "source": [
    "df_08.to_csv('data_08.csv', index=False)\n",
    "df_18.to_csv('data_18.csv', index=False)"
   ]
  },
  {
   "cell_type": "markdown",
   "metadata": {},
   "source": [
    "### Fix air_pollution_score datatype\n",
    "* 2008: convert string to float.\n",
    "* 2018: convert int to float."
   ]
  },
  {
   "cell_type": "code",
   "execution_count": null,
   "metadata": {
    "collapsed": true
   },
   "outputs": [],
   "source": []
  },
  {
   "cell_type": "markdown",
   "metadata": {},
   "source": [
    "### Fix city_mpg, hwy_mpg, cmb_mpg datatypes\n",
    "2008 and 2018: convert string to float."
   ]
  },
  {
   "cell_type": "code",
   "execution_count": null,
   "metadata": {
    "collapsed": true
   },
   "outputs": [],
   "source": []
  },
  {
   "cell_type": "markdown",
   "metadata": {},
   "source": [
    "### Fix greenhouse_gas_score datatype\n",
    "2008: convert from float to int."
   ]
  },
  {
   "cell_type": "code",
   "execution_count": null,
   "metadata": {
    "collapsed": true
   },
   "outputs": [],
   "source": []
  }
 ],
 "metadata": {
  "kernelspec": {
   "display_name": "Python [conda env:DAND]",
   "language": "python",
   "name": "conda-env-DAND-py"
  },
  "language_info": {
   "codemirror_mode": {
    "name": "ipython",
    "version": 2
   },
   "file_extension": ".py",
   "mimetype": "text/x-python",
   "name": "python",
   "nbconvert_exporter": "python",
   "pygments_lexer": "ipython2",
   "version": "2.7.12"
  }
 },
 "nbformat": 4,
 "nbformat_minor": 2
}
